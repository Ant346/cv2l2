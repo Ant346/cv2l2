{
 "cells": [
  {
   "cell_type": "code",
   "execution_count": 6,
   "source": [
    "import keyboard\r\n",
    "import mss\r\n",
    "import cv2\r\n",
    "import numpy as np\r\n",
    "from time import time, sleep\r\n",
    "import pyautogui\r\n",
    "\r\n",
    "while True:\r\n",
    "\r\n",
    "    pyautogui.press('f2') \r\n",
    "    pyautogui.press('f1') \r\n",
    "    sleep(2)\r\n",
    "    wheat_img=cv2.imread('hp.png',cv2.IMREAD_UNCHANGED)\r\n",
    "\r\n",
    "    im1 = pyautogui.screenshot()\r\n",
    "    im1.save('my_screenshot.png')\r\n",
    "    farm_img=cv2.imread('my_screenshot.png',cv2.IMREAD_UNCHANGED)\r\n",
    "\r\n",
    "    result=cv2.matchTemplate(farm_img,wheat_img,cv2.TM_CCOEFF_NORMED)\r\n",
    "    min_val,max_val,min_loc,max_loc=cv2.minMaxLoc(result)\r\n",
    "    w=wheat_img.shape[1]\r\n",
    "    h=wheat_img.shape[0]\r\n",
    "    cv2.rectangle(farm_img, max_loc, (max_loc[0]+w, max_loc[1]+h), (0,255,255), 2)\r\n",
    "    treshold=.90\r\n",
    "    yloc, xloc=np.where(result>=treshold)\r\n",
    "    print(len(xloc))\r\n",
    "\r\n",
    "    for (x,y) in zip(xloc,yloc):\r\n",
    "        cv2.rectangle(farm_img, (x,y), (x+w, y+h), (0,255,255), 2)\r\n",
    "\r\n",
    "\r\n",
    "    # cv2.imshow('Farm',farm_img)\r\n",
    "    # cv2.waitKey()\r\n",
    "    # cv2.destroyAllWindows()\r\n",
    "\r\n",
    "\r\n",
    "    while len(xloc)==0:\r\n",
    "        pyautogui.press('f1') "
   ],
   "outputs": [
    {
     "output_type": "stream",
     "name": "stdout",
     "text": [
      "0\n"
     ]
    },
    {
     "output_type": "error",
     "ename": "KeyboardInterrupt",
     "evalue": "",
     "traceback": [
      "\u001b[1;31m---------------------------------------------------------------------------\u001b[0m",
      "\u001b[1;31mKeyboardInterrupt\u001b[0m                         Traceback (most recent call last)",
      "\u001b[1;32mC:\\Temp/ipykernel_12428/145664091.py\u001b[0m in \u001b[0;36m<module>\u001b[1;34m\u001b[0m\n\u001b[0;32m     36\u001b[0m \u001b[1;33m\u001b[0m\u001b[0m\n\u001b[0;32m     37\u001b[0m     \u001b[1;32mwhile\u001b[0m \u001b[0mlen\u001b[0m\u001b[1;33m(\u001b[0m\u001b[0mxloc\u001b[0m\u001b[1;33m)\u001b[0m\u001b[1;33m==\u001b[0m\u001b[1;36m0\u001b[0m\u001b[1;33m:\u001b[0m\u001b[1;33m\u001b[0m\u001b[1;33m\u001b[0m\u001b[0m\n\u001b[1;32m---> 38\u001b[1;33m         \u001b[0mpyautogui\u001b[0m\u001b[1;33m.\u001b[0m\u001b[0mpress\u001b[0m\u001b[1;33m(\u001b[0m\u001b[1;34m'f1'\u001b[0m\u001b[1;33m)\u001b[0m\u001b[1;33m\u001b[0m\u001b[1;33m\u001b[0m\u001b[0m\n\u001b[0m",
      "\u001b[1;32m~\\AppData\\Local\\Programs\\Python\\Python39-32\\lib\\site-packages\\pyautogui\\__init__.py\u001b[0m in \u001b[0;36mwrapper\u001b[1;34m(*args, **kwargs)\u001b[0m\n\u001b[0;32m    597\u001b[0m         \u001b[0mfailSafeCheck\u001b[0m\u001b[1;33m(\u001b[0m\u001b[1;33m)\u001b[0m\u001b[1;33m\u001b[0m\u001b[1;33m\u001b[0m\u001b[0m\n\u001b[0;32m    598\u001b[0m         \u001b[0mreturnVal\u001b[0m \u001b[1;33m=\u001b[0m \u001b[0mwrappedFunction\u001b[0m\u001b[1;33m(\u001b[0m\u001b[1;33m*\u001b[0m\u001b[0margs\u001b[0m\u001b[1;33m,\u001b[0m \u001b[1;33m**\u001b[0m\u001b[0mkwargs\u001b[0m\u001b[1;33m)\u001b[0m\u001b[1;33m\u001b[0m\u001b[1;33m\u001b[0m\u001b[0m\n\u001b[1;32m--> 599\u001b[1;33m         \u001b[0m_handlePause\u001b[0m\u001b[1;33m(\u001b[0m\u001b[0mkwargs\u001b[0m\u001b[1;33m.\u001b[0m\u001b[0mget\u001b[0m\u001b[1;33m(\u001b[0m\u001b[1;34m\"_pause\"\u001b[0m\u001b[1;33m,\u001b[0m \u001b[1;32mTrue\u001b[0m\u001b[1;33m)\u001b[0m\u001b[1;33m)\u001b[0m\u001b[1;33m\u001b[0m\u001b[1;33m\u001b[0m\u001b[0m\n\u001b[0m\u001b[0;32m    600\u001b[0m         \u001b[1;32mreturn\u001b[0m \u001b[0mreturnVal\u001b[0m\u001b[1;33m\u001b[0m\u001b[1;33m\u001b[0m\u001b[0m\n\u001b[0;32m    601\u001b[0m \u001b[1;33m\u001b[0m\u001b[0m\n",
      "\u001b[1;32m~\\AppData\\Local\\Programs\\Python\\Python39-32\\lib\\site-packages\\pyautogui\\__init__.py\u001b[0m in \u001b[0;36m_handlePause\u001b[1;34m(_pause)\u001b[0m\n\u001b[0;32m    641\u001b[0m     \u001b[1;32mif\u001b[0m \u001b[0m_pause\u001b[0m\u001b[1;33m:\u001b[0m\u001b[1;33m\u001b[0m\u001b[1;33m\u001b[0m\u001b[0m\n\u001b[0;32m    642\u001b[0m         \u001b[1;32massert\u001b[0m \u001b[0misinstance\u001b[0m\u001b[1;33m(\u001b[0m\u001b[0mPAUSE\u001b[0m\u001b[1;33m,\u001b[0m \u001b[0mint\u001b[0m\u001b[1;33m)\u001b[0m \u001b[1;32mor\u001b[0m \u001b[0misinstance\u001b[0m\u001b[1;33m(\u001b[0m\u001b[0mPAUSE\u001b[0m\u001b[1;33m,\u001b[0m \u001b[0mfloat\u001b[0m\u001b[1;33m)\u001b[0m\u001b[1;33m\u001b[0m\u001b[1;33m\u001b[0m\u001b[0m\n\u001b[1;32m--> 643\u001b[1;33m         \u001b[0mtime\u001b[0m\u001b[1;33m.\u001b[0m\u001b[0msleep\u001b[0m\u001b[1;33m(\u001b[0m\u001b[0mPAUSE\u001b[0m\u001b[1;33m)\u001b[0m\u001b[1;33m\u001b[0m\u001b[1;33m\u001b[0m\u001b[0m\n\u001b[0m\u001b[0;32m    644\u001b[0m \u001b[1;33m\u001b[0m\u001b[0m\n\u001b[0;32m    645\u001b[0m \u001b[1;33m\u001b[0m\u001b[0m\n",
      "\u001b[1;31mKeyboardInterrupt\u001b[0m: "
     ]
    }
   ],
   "metadata": {}
  },
  {
   "cell_type": "code",
   "execution_count": 5,
   "source": [
    "%pip install ahk"
   ],
   "outputs": [
    {
     "output_type": "stream",
     "name": "stdout",
     "text": [
      "Requirement already satisfied: ahk in c:\\users\\ant\\appdata\\local\\programs\\python\\python39-32\\lib\\site-packages (0.12.0)\n",
      "Requirement already satisfied: jinja2 in c:\\users\\ant\\appdata\\local\\programs\\python\\python39-32\\lib\\site-packages (from ahk) (3.0.2)\n",
      "Requirement already satisfied: MarkupSafe>=2.0 in c:\\users\\ant\\appdata\\local\\programs\\python\\python39-32\\lib\\site-packages (from jinja2->ahk) (2.0.1)\n",
      "Note: you may need to restart the kernel to use updated packages.\n"
     ]
    }
   ],
   "metadata": {}
  },
  {
   "cell_type": "code",
   "execution_count": 12,
   "source": [
    "from ahk import AHK\r\n",
    "import keyboard\r\n",
    "import pyautogui\r\n",
    "while keyboard.is_pressed('esc')==False:\r\n",
    "    ahk = AHK(executable_path='C:\\\\program files\\\\AutoHotkey\\\\AutoHotkey.exe')\r\n",
    "    ahk.key_press('F2')\r\n",
    "    pyautogui.sleep(0.5)"
   ],
   "outputs": [
    {
     "output_type": "error",
     "ename": "KeyboardInterrupt",
     "evalue": "",
     "traceback": [
      "\u001b[1;31m---------------------------------------------------------------------------\u001b[0m",
      "\u001b[1;31mKeyboardInterrupt\u001b[0m                         Traceback (most recent call last)",
      "\u001b[1;32mC:\\Temp/ipykernel_5388/2489837380.py\u001b[0m in \u001b[0;36m<module>\u001b[1;34m\u001b[0m\n\u001b[0;32m      5\u001b[0m     \u001b[0mahk\u001b[0m \u001b[1;33m=\u001b[0m \u001b[0mAHK\u001b[0m\u001b[1;33m(\u001b[0m\u001b[0mexecutable_path\u001b[0m\u001b[1;33m=\u001b[0m\u001b[1;34m'C:\\\\program files\\\\AutoHotkey\\\\AutoHotkey.exe'\u001b[0m\u001b[1;33m)\u001b[0m\u001b[1;33m\u001b[0m\u001b[1;33m\u001b[0m\u001b[0m\n\u001b[0;32m      6\u001b[0m     \u001b[0mahk\u001b[0m\u001b[1;33m.\u001b[0m\u001b[0mkey_press\u001b[0m\u001b[1;33m(\u001b[0m\u001b[1;34m'F2'\u001b[0m\u001b[1;33m)\u001b[0m\u001b[1;33m\u001b[0m\u001b[1;33m\u001b[0m\u001b[0m\n\u001b[1;32m----> 7\u001b[1;33m     \u001b[0mpyautogui\u001b[0m\u001b[1;33m.\u001b[0m\u001b[0msleep\u001b[0m\u001b[1;33m(\u001b[0m\u001b[1;36m0.5\u001b[0m\u001b[1;33m)\u001b[0m\u001b[1;33m\u001b[0m\u001b[1;33m\u001b[0m\u001b[0m\n\u001b[0m",
      "\u001b[1;32m~\\AppData\\Local\\Programs\\Python\\Python39-32\\lib\\site-packages\\pyautogui\\__init__.py\u001b[0m in \u001b[0;36msleep\u001b[1;34m(seconds)\u001b[0m\n\u001b[0;32m   1792\u001b[0m \u001b[1;33m\u001b[0m\u001b[0m\n\u001b[0;32m   1793\u001b[0m \u001b[1;32mdef\u001b[0m \u001b[0msleep\u001b[0m\u001b[1;33m(\u001b[0m\u001b[0mseconds\u001b[0m\u001b[1;33m)\u001b[0m\u001b[1;33m:\u001b[0m\u001b[1;33m\u001b[0m\u001b[1;33m\u001b[0m\u001b[0m\n\u001b[1;32m-> 1794\u001b[1;33m     \u001b[0mtime\u001b[0m\u001b[1;33m.\u001b[0m\u001b[0msleep\u001b[0m\u001b[1;33m(\u001b[0m\u001b[0mseconds\u001b[0m\u001b[1;33m)\u001b[0m\u001b[1;33m\u001b[0m\u001b[1;33m\u001b[0m\u001b[0m\n\u001b[0m\u001b[0;32m   1795\u001b[0m \u001b[1;33m\u001b[0m\u001b[0m\n\u001b[0;32m   1796\u001b[0m \u001b[1;33m\u001b[0m\u001b[0m\n",
      "\u001b[1;31mKeyboardInterrupt\u001b[0m: "
     ]
    }
   ],
   "metadata": {}
  },
  {
   "cell_type": "code",
   "execution_count": 13,
   "source": [
    "%pip install AutoHotPy"
   ],
   "outputs": [
    {
     "output_type": "stream",
     "name": "stdout",
     "text": [
      "Note: you may need to restart the kernel to use updated packages.\n"
     ]
    },
    {
     "output_type": "stream",
     "name": "stderr",
     "text": [
      "ERROR: Could not find a version that satisfies the requirement AutoHotPy (from versions: none)\n",
      "ERROR: No matching distribution found for AutoHotPy\n"
     ]
    }
   ],
   "metadata": {}
  },
  {
   "cell_type": "code",
   "execution_count": null,
   "source": [],
   "outputs": [],
   "metadata": {}
  }
 ],
 "metadata": {
  "orig_nbformat": 4,
  "language_info": {
   "name": "python",
   "version": "3.9.7",
   "mimetype": "text/x-python",
   "codemirror_mode": {
    "name": "ipython",
    "version": 3
   },
   "pygments_lexer": "ipython3",
   "nbconvert_exporter": "python",
   "file_extension": ".py"
  },
  "kernelspec": {
   "name": "python3",
   "display_name": "Python 3.9.7 32-bit"
  },
  "interpreter": {
   "hash": "ffacfb9c386dc3aeb18085db0d3c99a2c0e6a69fc8b6c50112ccffe13b9b16d3"
  }
 },
 "nbformat": 4,
 "nbformat_minor": 2
}