{
 "cells": [
  {
   "cell_type": "code",
   "execution_count": 11,
   "source": [
    "import keyboard\r\n",
    "import mss\r\n",
    "import cv2\r\n",
    "import numpy as np\r\n",
    "from time import time, sleep\r\n",
    "import pyautogui\r\n",
    "\r\n",
    "\r\n",
    "wheat_img=cv2.imread('orc.png',cv2.IMREAD_UNCHANGED)\r\n",
    "\r\n",
    "im1 = pyautogui.screenshot()\r\n",
    "im1.save('my_screenshot.png')\r\n",
    "farm_img=cv2.imread('my_screenshot.png',cv2.IMREAD_UNCHANGED)\r\n",
    "\r\n",
    "result=cv2.matchTemplate(farm_img,wheat_img,cv2.TM_CCOEFF_NORMED)\r\n",
    "min_val,max_val,min_loc,max_loc=cv2.minMaxLoc(result)\r\n",
    "w=wheat_img.shape[1]\r\n",
    "h=wheat_img.shape[0]\r\n",
    "cv2.rectangle(farm_img, max_loc, (max_loc[0]+w, max_loc[1]+h), (0,255,255), 2)\r\n",
    "treshold=.60\r\n",
    "yloc, xloc=np.where(result>=treshold)\r\n",
    "print(len(xloc))\r\n",
    "\r\n",
    "for (x,y) in zip(xloc,yloc):\r\n",
    "    cv2.rectangle(farm_img, (x,y), (x+w, y+h), (0,255,255), 2)\r\n",
    "\r\n",
    "for (x,y) in zip(xloc,yloc):\r\n",
    "    pyautogui.doubleClick(x=x+w/2, y=y+h/2+25)\r\n",
    "    for i in range (3):\r\n",
    "        pyautogui.press('f1') \r\n",
    "        sleep(2)\r\n",
    "    \r\n",
    "\r\n",
    "\r\n",
    "cv2.imshow('Farm',farm_img)\r\n",
    "cv2.waitKey()\r\n",
    "cv2.destroyAllWindows()"
   ],
   "outputs": [
    {
     "output_type": "stream",
     "name": "stdout",
     "text": [
      "4\n"
     ]
    }
   ],
   "metadata": {}
  },
  {
   "cell_type": "code",
   "execution_count": null,
   "source": [],
   "outputs": [],
   "metadata": {}
  }
 ],
 "metadata": {
  "orig_nbformat": 4,
  "language_info": {
   "name": "python",
   "version": "3.9.7",
   "mimetype": "text/x-python",
   "codemirror_mode": {
    "name": "ipython",
    "version": 3
   },
   "pygments_lexer": "ipython3",
   "nbconvert_exporter": "python",
   "file_extension": ".py"
  },
  "kernelspec": {
   "name": "python3",
   "display_name": "Python 3.9.7 32-bit"
  },
  "interpreter": {
   "hash": "ffacfb9c386dc3aeb18085db0d3c99a2c0e6a69fc8b6c50112ccffe13b9b16d3"
  }
 },
 "nbformat": 4,
 "nbformat_minor": 2
}