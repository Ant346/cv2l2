{
 "cells": [
  {
   "cell_type": "code",
   "execution_count": 1,
   "source": [
    "# -*- encoding:utf-8 -*-\r\n",
    "import os,sys\r\n",
    "import win32gui\r\n",
    "import win32con\r\n",
    "import win32api\r\n",
    "import win32clipboard\r\n",
    "import time\r\n",
    "\r\n",
    "from_pos_x = 100\r\n",
    "from_pos_y = 50\r\n",
    "\r\n",
    "def do_key_input(msg, clip_board_mode = True, key_sleep = 0):\r\n",
    "    if clip_board_mode:  # Режим буфера обмена\r\n",
    "        win32clipboard.OpenClipboard()\r\n",
    "        win32clipboard.EmptyClipboard()\r\n",
    "        win32clipboard.SetClipboardText(msg)\r\n",
    "        win32clipboard.CloseClipboard()\r\n",
    "        win32api.keybd_event(win32con.VK_CONTROL, 0, 0, 0)\r\n",
    "        win32api.keybd_event(ord('V'), 0, 0, 0)\r\n",
    "        win32api.keybd_event(win32con.VK_CONTROL, 0, win32con.KEYEVENTF_KEYUP, 0)\r\n",
    "        win32api.keybd_event(ord('V'), 0, win32con.KEYEVENTF_KEYUP, 0)\r\n",
    "    else:  # Метод ввода ключа\r\n",
    "        for c in msg:\r\n",
    "            time.sleep(key_sleep)\r\n",
    "            if c == '!':\r\n",
    "                win32api.keybd_event(win32con.VK_SHIFT, 0, 0, 0)\r\n",
    "                win32api.keybd_event(49, 0, 0, 0)\r\n",
    "                win32api.keybd_event(win32con.VK_SHIFT, 0, win32con.KEYEVENTF_KEYUP, 0)\r\n",
    "                win32api.keybd_event(49, 0, win32con.KEYEVENTF_KEYUP, 0)\r\n",
    "            elif c == ':':\r\n",
    "                win32api.keybd_event(win32con.VK_SHIFT, 0, 0, 0)\r\n",
    "                win32api.keybd_event(186, 0, 0, 0)\r\n",
    "                win32api.keybd_event(win32con.VK_SHIFT, 0, win32con.KEYEVENTF_KEYUP, 0)\r\n",
    "                win32api.keybd_event(186, 0, win32con.KEYEVENTF_KEYUP, 0)\r\n",
    "            elif c == ',':\r\n",
    "                win32api.keybd_event(188, 0, 0, 0)\r\n",
    "                win32api.keybd_event(188, 0, win32con.KEYEVENTF_KEYUP, 0)\r\n",
    "            elif c == '.':\r\n",
    "                win32api.keybd_event(190, 0, 0, 0)\r\n",
    "                win32api.keybd_event(190, 0, win32con.KEYEVENTF_KEYUP, 0)\r\n",
    "            elif c == '/':\r\n",
    "                win32api.keybd_event(191, 0, 0, 0)\r\n",
    "                win32api.keybd_event(191, 0, win32con.KEYEVENTF_KEYUP, 0)\r\n",
    "            elif c == '\\\\':\r\n",
    "                win32api.keybd_event(220, 0, 0, 0)\r\n",
    "                win32api.keybd_event(220, 0, win32con.KEYEVENTF_KEYUP, 0)\r\n",
    "            else:\r\n",
    "                code = ord(c)\r\n",
    "                if code >= 97 and code <= 122:\r\n",
    "                    code -= 32\r\n",
    "                    win32api.keybd_event(code,0,0,0)\r\n",
    "                    win32api.keybd_event(code,0,win32con.KEYEVENTF_KEYUP,0)\r\n",
    "                elif code >= 65 and code<=90:\r\n",
    "                    win32api.keybd_event(win32con.VK_SHIFT, 0, 0, 0)\r\n",
    "                    win32api.keybd_event(code, 0, 0, 0)\r\n",
    "                    win32api.keybd_event(win32con.VK_SHIFT, 0, win32con.KEYEVENTF_KEYUP, 0)\r\n",
    "                    win32api.keybd_event(code, 0, win32con.KEYEVENTF_KEYUP, 0)\r\n",
    "                else:\r\n",
    "                    win32api.keybd_event(code, 0, 0, 0)\r\n",
    "                    win32api.keybd_event(code, 0, win32con.KEYEVENTF_KEYUP, 0)\r\n",
    "\r\n",
    "def mouse_click(x, y):\r\n",
    "    win32api.SetCursorPos([x, y])\r\n",
    "    win32api.mouse_event(win32con.MOUSEEVENTF_LEFTDOWN, 0, 0, 0, 0)\r\n",
    "    win32api.mouse_event(win32con.MOUSEEVENTF_LEFTUP, 0, 0, 0, 0)\r\n",
    "\r\n",
    "def wait_for_window(targetTitle, max_time=5):\r\n",
    "    t = time.time()\r\n",
    "    while time.time() - t < max_time:\r\n",
    "        hWndList = []\r\n",
    "        win32gui.EnumWindows(lambda hWnd, param: param.append(hWnd), hWndList)\r\n",
    "        for hwnd in hWndList:\r\n",
    "            try:\r\n",
    "                clsname = win32gui.GetClassName(hwnd)\r\n",
    "                title = win32gui.GetWindowText(hwnd)\r\n",
    "                if (title.find(targetTitle) >= 0):\r\n",
    "                    return hwnd\r\n",
    "            except Exception as ex:\r\n",
    "                print(ex)\r\n",
    "        time.sleep(0.2)\r\n",
    "    return None\r\n",
    "\r\n",
    "os.startfile('notepad')\r\n",
    "hwnd = wait_for_window(\"ноутбук\", max_time=3)  # Подождите до 3 секунд\r\n",
    "if hwnd is None: sys.exit(0)\r\n",
    "win32gui.SetWindowPos(hwnd, win32con.HWND_TOPMOST, from_pos_x, from_pos_y, 600, 400, win32con.SWP_SHOWWINDOW)\r\n",
    "time.sleep(0.5)\r\n",
    "mouse_click(from_pos_x+130, from_pos_y+40)\r\n",
    "time.sleep(1)\r\n",
    "mouse_click(from_pos_x+140, from_pos_y+80)\r\n",
    "time.sleep(1)\r\n",
    "hwnd2 = wait_for_window(\"Шрифт\", max_time=3)  # Подождите до 3 секунд\r\n",
    "if hwnd2 is None: sys.exit(0)\r\n",
    "win32gui.SetWindowPos(hwnd2, win32con.HWND_TOPMOST, from_pos_x, from_pos_y, 600, 600, win32con.SWP_SHOWWINDOW)\r\n",
    "for i in range(30): mouse_click(from_pos_x+420, from_pos_y+190)\r\n",
    "time.sleep(1)\r\n",
    "mouse_click(from_pos_x+420, from_pos_y+120)\r\n",
    "time.sleep(0.2)\r\n",
    "mouse_click(from_pos_x+420, from_pos_y+120)\r\n",
    "time.sleep(0.2)\r\n",
    "# mouse_click(from_pos_x+380, from_pos_y+90)\r\n",
    "mouse_click(from_pos_x+380, from_pos_y+150)\r\n",
    "time.sleep(1)\r\n",
    "mouse_click(from_pos_x+260, from_pos_y+120)\r\n",
    "time.sleep(1)\r\n",
    "mouse_click(from_pos_x+300, from_pos_y+470)\r\n",
    "time.sleep(1)\r\n",
    "\r\n",
    "win32api.keybd_event(win32con.VK_SHIFT, 0, 0, 0)\r\n",
    "win32api.keybd_event(win32con.VK_SHIFT, 0, win32con.KEYEVENTF_KEYUP, 0)\r\n",
    "\r\n",
    "do_key_input(\"Hello,win32api!\", clip_board_mode=False, key_sleep=0.2)\r\n",
    "win32api.keybd_event(win32con.VK_RETURN, 0, 0, 0)\r\n",
    "win32api.keybd_event(win32con.VK_RETURN, 0, win32con.KEYEVENTF_KEYUP, 0)\r\n",
    "do_key_input(\"Привет, win32api!\", clip_board_mode=True)\r\n",
    "\r\n",
    "mouse_click(from_pos_x+30, from_pos_y+40)\r\n",
    "time.sleep(1)\r\n",
    "mouse_click(from_pos_x+30, from_pos_y+140)\r\n",
    "time.sleep(1)\r\n",
    "hwnd3 = wait_for_window(\"Сохранить как\", max_time=2)  # Подождите до 2 секунд\r\n",
    "if hwnd3 is None:\r\n",
    "    sys.exit(0)\r\n",
    "mouse_click(from_pos_x+200, from_pos_y+370)\r\n",
    "win32api.keybd_event(win32con.VK_CONTROL, 0, 0, 0)\r\n",
    "win32api.keybd_event(65, 0, 0, 0)\r\n",
    "win32api.keybd_event(win32con.VK_CONTROL, 0, win32con.KEYEVENTF_KEYUP, 0)\r\n",
    "win32api.keybd_event(65, 0, win32con.KEYEVENTF_KEYUP, 0)\r\n",
    "do_key_input('d:\\win32api_test.txt', clip_board_mode=True)\r\n",
    "mouse_click(from_pos_x+590, from_pos_y+450)\r\n",
    "time.sleep(1)\r\n",
    "hwnd4 = wait_for_window(\"Подтвердить\" Сохранить как \", max_time=2)  # Подождите до 2 секунд\r\n",
    "if hwnd4 is not None:\r\n",
    "    win32gui.SetWindowPos(hwnd4, win32con.HWND_TOPMOST, from_pos_x, from_pos_y, 200, 100, win32con.SWP_SHOWWINDOW)\r\n",
    "    mouse_click(from_pos_x + 240, from_pos_y + 110)\r\n",
    "    time.sleep(1)\r\n",
    "\r\n",
    "mouse_click(from_pos_x+570, from_pos_y+10)"
   ],
   "outputs": [
    {
     "output_type": "error",
     "ename": "SyntaxError",
     "evalue": "invalid syntax (Temp/ipykernel_7180/1713364871.py, line 132)",
     "traceback": [
      "\u001b[1;36m  File \u001b[1;32m\"C:\\Temp/ipykernel_7180/1713364871.py\"\u001b[1;36m, line \u001b[1;32m132\u001b[0m\n\u001b[1;33m    hwnd4 = wait_for_window(\"Подтвердить\" Сохранить как \", max_time=2)  # Подождите до 2 секунд\u001b[0m\n\u001b[1;37m                                          ^\u001b[0m\n\u001b[1;31mSyntaxError\u001b[0m\u001b[1;31m:\u001b[0m invalid syntax\n"
     ]
    }
   ],
   "metadata": {}
  },
  {
   "cell_type": "code",
   "execution_count": 2,
   "source": [
    "!pip install pywinauto"
   ],
   "outputs": [
    {
     "output_type": "stream",
     "name": "stdout",
     "text": [
      "Collecting pywinauto\n",
      "  Downloading pywinauto-0.6.8-py2.py3-none-any.whl (362 kB)\n",
      "Requirement already satisfied: pywin32 in c:\\users\\ant\\appdata\\local\\programs\\python\\python39-32\\lib\\site-packages (from pywinauto) (301)\n",
      "Collecting comtypes\n",
      "  Downloading comtypes-1.1.10.tar.gz (145 kB)\n",
      "Requirement already satisfied: six in c:\\users\\ant\\appdata\\local\\programs\\python\\python39-32\\lib\\site-packages (from pywinauto) (1.16.0)\n",
      "Building wheels for collected packages: comtypes\n",
      "  Building wheel for comtypes (setup.py): started\n",
      "  Building wheel for comtypes (setup.py): finished with status 'done'\n",
      "  Created wheel for comtypes: filename=comtypes-1.1.10-py3-none-any.whl size=164937 sha256=19fea7f2aca2e54851aba07d6b745d61061a5e6a4fa274bc30f3b331466bb3dd\n",
      "  Stored in directory: c:\\users\\ant\\appdata\\local\\pip\\cache\\wheels\\76\\c4\\bb\\651111ab6c5e31ad6a1ff3022bfdbef5a4e88bfe568150870c\n",
      "Successfully built comtypes\n",
      "Installing collected packages: comtypes, pywinauto\n",
      "Successfully installed comtypes-1.1.10 pywinauto-0.6.8\n"
     ]
    }
   ],
   "metadata": {}
  },
  {
   "cell_type": "code",
   "execution_count": null,
   "source": [
    "pywinauto.keyboard('a',)"
   ],
   "outputs": [],
   "metadata": {}
  },
  {
   "cell_type": "code",
   "execution_count": null,
   "source": [
    "from pywinauto.keyboard import send_keys, KeySequenceError\r\n",
    "while True:\r\n",
    "    send_keys('{F1}', with_spaces=True)\r\n"
   ],
   "outputs": [],
   "metadata": {}
  },
  {
   "cell_type": "code",
   "execution_count": 13,
   "source": [
    "import win32api\r\n",
    "import win32com.client\r\n",
    "\r\n",
    "\r\n",
    "\r\n",
    "shell = win32com.client.Dispatch(\"WScript.Shell\")\r\n",
    "shell.Run(\"app\")\r\n",
    "win32api.Sleep(100)\r\n",
    "shell.AppActivate(\"myApp\")\r\n",
    "win32api.Sleep(100)\r\n",
    "shell.SendKeys(\"%\")\r\n",
    "win32api.Sleep(500)\r\n",
    "shell.SendKeys(\"t\")\r\n",
    "win32api.Sleep(500)\r\n",
    "shell.SendKeys(\"r\")\r\n",
    "win32api.Sleep(500)\r\n",
    "shell.SendKeys(\"name\")\r\n",
    "win32api.Sleep(500)\r\n",
    "shell.SendKeys(\"{ENTER}\")\r\n",
    "win32api.Sleep(2500)"
   ],
   "outputs": [
    {
     "output_type": "error",
     "ename": "com_error",
     "evalue": "(-2147352567, 'Ошибка.', (0, None, None, None, 0, -2147024894), None)",
     "traceback": [
      "\u001b[1;31m---------------------------------------------------------------------------\u001b[0m",
      "\u001b[1;31mcom_error\u001b[0m                                 Traceback (most recent call last)",
      "\u001b[1;32mC:\\Temp/ipykernel_7180/1986722805.py\u001b[0m in \u001b[0;36m<module>\u001b[1;34m\u001b[0m\n\u001b[0;32m      5\u001b[0m \u001b[1;33m\u001b[0m\u001b[0m\n\u001b[0;32m      6\u001b[0m \u001b[0mshell\u001b[0m \u001b[1;33m=\u001b[0m \u001b[0mwin32com\u001b[0m\u001b[1;33m.\u001b[0m\u001b[0mclient\u001b[0m\u001b[1;33m.\u001b[0m\u001b[0mDispatch\u001b[0m\u001b[1;33m(\u001b[0m\u001b[1;34m\"WScript.Shell\"\u001b[0m\u001b[1;33m)\u001b[0m\u001b[1;33m\u001b[0m\u001b[1;33m\u001b[0m\u001b[0m\n\u001b[1;32m----> 7\u001b[1;33m \u001b[0mshell\u001b[0m\u001b[1;33m.\u001b[0m\u001b[0mRun\u001b[0m\u001b[1;33m(\u001b[0m\u001b[1;34m\"app\"\u001b[0m\u001b[1;33m)\u001b[0m\u001b[1;33m\u001b[0m\u001b[1;33m\u001b[0m\u001b[0m\n\u001b[0m\u001b[0;32m      8\u001b[0m \u001b[0mwin32api\u001b[0m\u001b[1;33m.\u001b[0m\u001b[0mSleep\u001b[0m\u001b[1;33m(\u001b[0m\u001b[1;36m100\u001b[0m\u001b[1;33m)\u001b[0m\u001b[1;33m\u001b[0m\u001b[1;33m\u001b[0m\u001b[0m\n\u001b[0;32m      9\u001b[0m \u001b[0mshell\u001b[0m\u001b[1;33m.\u001b[0m\u001b[0mAppActivate\u001b[0m\u001b[1;33m(\u001b[0m\u001b[1;34m\"myApp\"\u001b[0m\u001b[1;33m)\u001b[0m\u001b[1;33m\u001b[0m\u001b[1;33m\u001b[0m\u001b[0m\n",
      "\u001b[1;32m~\\AppData\\Local\\Programs\\Python\\Python39-32\\lib\\site-packages\\win32com\\client\\dynamic.py\u001b[0m in \u001b[0;36mRun\u001b[1;34m(self, *args)\u001b[0m\n",
      "\u001b[1;31mcom_error\u001b[0m: (-2147352567, 'Ошибка.', (0, None, None, None, 0, -2147024894), None)"
     ]
    }
   ],
   "metadata": {}
  },
  {
   "cell_type": "code",
   "execution_count": 3,
   "source": [
    "import keyboard\r\n",
    "from time import time, sleep\r\n",
    "while True:\r\n",
    "    keyboard.send(\"f1\")\r\n",
    "    sleep(1)"
   ],
   "outputs": [
    {
     "output_type": "error",
     "ename": "KeyboardInterrupt",
     "evalue": "",
     "traceback": [
      "\u001b[1;31m---------------------------------------------------------------------------\u001b[0m",
      "\u001b[1;31mKeyboardInterrupt\u001b[0m                         Traceback (most recent call last)",
      "\u001b[1;32mC:\\Temp/ipykernel_11176/870336082.py\u001b[0m in \u001b[0;36m<module>\u001b[1;34m\u001b[0m\n\u001b[0;32m      3\u001b[0m \u001b[1;32mwhile\u001b[0m \u001b[1;32mTrue\u001b[0m\u001b[1;33m:\u001b[0m\u001b[1;33m\u001b[0m\u001b[1;33m\u001b[0m\u001b[0m\n\u001b[0;32m      4\u001b[0m     \u001b[0mkeyboard\u001b[0m\u001b[1;33m.\u001b[0m\u001b[0msend\u001b[0m\u001b[1;33m(\u001b[0m\u001b[1;34m\"f1\"\u001b[0m\u001b[1;33m)\u001b[0m\u001b[1;33m\u001b[0m\u001b[1;33m\u001b[0m\u001b[0m\n\u001b[1;32m----> 5\u001b[1;33m     \u001b[0msleep\u001b[0m\u001b[1;33m(\u001b[0m\u001b[1;36m1\u001b[0m\u001b[1;33m)\u001b[0m\u001b[1;33m\u001b[0m\u001b[1;33m\u001b[0m\u001b[0m\n\u001b[0m",
      "\u001b[1;31mKeyboardInterrupt\u001b[0m: "
     ]
    }
   ],
   "metadata": {}
  }
 ],
 "metadata": {
  "orig_nbformat": 4,
  "language_info": {
   "name": "python",
   "version": "3.9.7",
   "mimetype": "text/x-python",
   "codemirror_mode": {
    "name": "ipython",
    "version": 3
   },
   "pygments_lexer": "ipython3",
   "nbconvert_exporter": "python",
   "file_extension": ".py"
  },
  "kernelspec": {
   "name": "python3",
   "display_name": "Python 3.9.7 32-bit"
  },
  "interpreter": {
   "hash": "ffacfb9c386dc3aeb18085db0d3c99a2c0e6a69fc8b6c50112ccffe13b9b16d3"
  }
 },
 "nbformat": 4,
 "nbformat_minor": 2
}